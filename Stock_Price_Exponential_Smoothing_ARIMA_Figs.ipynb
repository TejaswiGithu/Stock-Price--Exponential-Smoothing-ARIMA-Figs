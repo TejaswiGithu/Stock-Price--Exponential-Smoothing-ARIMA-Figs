{
  "nbformat": 4,
  "nbformat_minor": 0,
  "metadata": {
    "colab": {
      "name": "Stock Price -Exponential Smoothing-ARIMA-Figs",
      "provenance": [],
      "authorship_tag": "ABX9TyPKF8T7YIHgcv2XR9VWMACg",
      "include_colab_link": true
    },
    "kernelspec": {
      "name": "python3",
      "display_name": "Python 3"
    },
    "language_info": {
      "name": "python"
    },
    "accelerator": "GPU",
    "gpuClass": "standard"
  },
  "cells": [
    {
      "cell_type": "markdown",
      "metadata": {
        "id": "view-in-github",
        "colab_type": "text"
      },
      "source": [
        "<a href=\"https://colab.research.google.com/github/TejaswiGithu/Stock-Price--Exponential-Smoothing-ARIMA-Figs/blob/main/Stock_Price_Exponential_Smoothing_ARIMA_Figs.ipynb\" target=\"_parent\"><img src=\"https://colab.research.google.com/assets/colab-badge.svg\" alt=\"Open In Colab\"/></a>"
      ]
    },
    {
      "cell_type": "code",
      "source": [
        "from google.colab import drive\n",
        "drive.mount(\"/content/drive\")"
      ],
      "metadata": {
        "id": "gB91HNwsWxxh",
        "colab": {
          "base_uri": "https://localhost:8080/"
        },
        "outputId": "0ac69607-6a49-4686-c9d8-007959e133c1"
      },
      "execution_count": 1,
      "outputs": [
        {
          "output_type": "stream",
          "name": "stdout",
          "text": [
            "Drive already mounted at /content/drive; to attempt to forcibly remount, call drive.mount(\"/content/drive\", force_remount=True).\n"
          ]
        }
      ]
    },
    {
      "cell_type": "code",
      "source": [
        "import pandas as pd\n",
        "import numpy as np\n",
        "import matplotlib.pyplot as plt\n",
        "plt.style.use('fivethirtyeight')\n",
        "import math\n",
        "import pandas_datareader as web"
      ],
      "metadata": {
        "id": "d3J2WsYFyD4B"
      },
      "execution_count": 2,
      "outputs": []
    },
    {
      "cell_type": "code",
      "source": [
        "from sklearn.preprocessing import MinMaxScaler\n",
        "from keras.models import Sequential\n",
        "from keras.layers import Dense,LSTM"
      ],
      "metadata": {
        "id": "gBHT1Al0QNPE"
      },
      "execution_count": 3,
      "outputs": []
    },
    {
      "cell_type": "code",
      "source": [
        "# stock_data = pd.read_csv('/content/drive/MyDrive/stock prices/FIGS.csv',parse_dates=True,index_col='Date')"
      ],
      "metadata": {
        "id": "nGZnUHqKMLwk"
      },
      "execution_count": 4,
      "outputs": []
    },
    {
      "cell_type": "code",
      "source": [
        "stock_data = pd.read_csv('/content/drive/MyDrive/stock prices/FIGS.csv')"
      ],
      "metadata": {
        "id": "5zjvV7m-SMLM"
      },
      "execution_count": 5,
      "outputs": []
    },
    {
      "cell_type": "code",
      "source": [
        "stock_data.head()"
      ],
      "metadata": {
        "colab": {
          "base_uri": "https://localhost:8080/",
          "height": 206
        },
        "id": "DK_hcIEYMLns",
        "outputId": "fc5b0bf6-b16b-407e-8e96-327415c20f91"
      },
      "execution_count": 6,
      "outputs": [
        {
          "output_type": "execute_result",
          "data": {
            "text/plain": [
              "         Date       Open       High        Low      Close  Adj Close    Volume\n",
              "0  2021-05-27  28.299999  32.110001  28.250000  30.020000  30.020000  13079000\n",
              "1  2021-05-28  30.500000  34.369999  29.500000  34.150002  34.150002   3491000\n",
              "2  2021-06-01  35.470001  36.090000  30.580000  31.760000  31.760000   4806300\n",
              "3  2021-06-02  31.760000  32.169998  30.120001  31.809999  31.809999   2479400\n",
              "4  2021-06-03  31.000000  32.900002  30.770000  31.770000  31.770000   2881600"
            ],
            "text/html": [
              "\n",
              "  <div id=\"df-f12494e8-ab0f-4878-9b39-b155113e14a3\">\n",
              "    <div class=\"colab-df-container\">\n",
              "      <div>\n",
              "<style scoped>\n",
              "    .dataframe tbody tr th:only-of-type {\n",
              "        vertical-align: middle;\n",
              "    }\n",
              "\n",
              "    .dataframe tbody tr th {\n",
              "        vertical-align: top;\n",
              "    }\n",
              "\n",
              "    .dataframe thead th {\n",
              "        text-align: right;\n",
              "    }\n",
              "</style>\n",
              "<table border=\"1\" class=\"dataframe\">\n",
              "  <thead>\n",
              "    <tr style=\"text-align: right;\">\n",
              "      <th></th>\n",
              "      <th>Date</th>\n",
              "      <th>Open</th>\n",
              "      <th>High</th>\n",
              "      <th>Low</th>\n",
              "      <th>Close</th>\n",
              "      <th>Adj Close</th>\n",
              "      <th>Volume</th>\n",
              "    </tr>\n",
              "  </thead>\n",
              "  <tbody>\n",
              "    <tr>\n",
              "      <th>0</th>\n",
              "      <td>2021-05-27</td>\n",
              "      <td>28.299999</td>\n",
              "      <td>32.110001</td>\n",
              "      <td>28.250000</td>\n",
              "      <td>30.020000</td>\n",
              "      <td>30.020000</td>\n",
              "      <td>13079000</td>\n",
              "    </tr>\n",
              "    <tr>\n",
              "      <th>1</th>\n",
              "      <td>2021-05-28</td>\n",
              "      <td>30.500000</td>\n",
              "      <td>34.369999</td>\n",
              "      <td>29.500000</td>\n",
              "      <td>34.150002</td>\n",
              "      <td>34.150002</td>\n",
              "      <td>3491000</td>\n",
              "    </tr>\n",
              "    <tr>\n",
              "      <th>2</th>\n",
              "      <td>2021-06-01</td>\n",
              "      <td>35.470001</td>\n",
              "      <td>36.090000</td>\n",
              "      <td>30.580000</td>\n",
              "      <td>31.760000</td>\n",
              "      <td>31.760000</td>\n",
              "      <td>4806300</td>\n",
              "    </tr>\n",
              "    <tr>\n",
              "      <th>3</th>\n",
              "      <td>2021-06-02</td>\n",
              "      <td>31.760000</td>\n",
              "      <td>32.169998</td>\n",
              "      <td>30.120001</td>\n",
              "      <td>31.809999</td>\n",
              "      <td>31.809999</td>\n",
              "      <td>2479400</td>\n",
              "    </tr>\n",
              "    <tr>\n",
              "      <th>4</th>\n",
              "      <td>2021-06-03</td>\n",
              "      <td>31.000000</td>\n",
              "      <td>32.900002</td>\n",
              "      <td>30.770000</td>\n",
              "      <td>31.770000</td>\n",
              "      <td>31.770000</td>\n",
              "      <td>2881600</td>\n",
              "    </tr>\n",
              "  </tbody>\n",
              "</table>\n",
              "</div>\n",
              "      <button class=\"colab-df-convert\" onclick=\"convertToInteractive('df-f12494e8-ab0f-4878-9b39-b155113e14a3')\"\n",
              "              title=\"Convert this dataframe to an interactive table.\"\n",
              "              style=\"display:none;\">\n",
              "        \n",
              "  <svg xmlns=\"http://www.w3.org/2000/svg\" height=\"24px\"viewBox=\"0 0 24 24\"\n",
              "       width=\"24px\">\n",
              "    <path d=\"M0 0h24v24H0V0z\" fill=\"none\"/>\n",
              "    <path d=\"M18.56 5.44l.94 2.06.94-2.06 2.06-.94-2.06-.94-.94-2.06-.94 2.06-2.06.94zm-11 1L8.5 8.5l.94-2.06 2.06-.94-2.06-.94L8.5 2.5l-.94 2.06-2.06.94zm10 10l.94 2.06.94-2.06 2.06-.94-2.06-.94-.94-2.06-.94 2.06-2.06.94z\"/><path d=\"M17.41 7.96l-1.37-1.37c-.4-.4-.92-.59-1.43-.59-.52 0-1.04.2-1.43.59L10.3 9.45l-7.72 7.72c-.78.78-.78 2.05 0 2.83L4 21.41c.39.39.9.59 1.41.59.51 0 1.02-.2 1.41-.59l7.78-7.78 2.81-2.81c.8-.78.8-2.07 0-2.86zM5.41 20L4 18.59l7.72-7.72 1.47 1.35L5.41 20z\"/>\n",
              "  </svg>\n",
              "      </button>\n",
              "      \n",
              "  <style>\n",
              "    .colab-df-container {\n",
              "      display:flex;\n",
              "      flex-wrap:wrap;\n",
              "      gap: 12px;\n",
              "    }\n",
              "\n",
              "    .colab-df-convert {\n",
              "      background-color: #E8F0FE;\n",
              "      border: none;\n",
              "      border-radius: 50%;\n",
              "      cursor: pointer;\n",
              "      display: none;\n",
              "      fill: #1967D2;\n",
              "      height: 32px;\n",
              "      padding: 0 0 0 0;\n",
              "      width: 32px;\n",
              "    }\n",
              "\n",
              "    .colab-df-convert:hover {\n",
              "      background-color: #E2EBFA;\n",
              "      box-shadow: 0px 1px 2px rgba(60, 64, 67, 0.3), 0px 1px 3px 1px rgba(60, 64, 67, 0.15);\n",
              "      fill: #174EA6;\n",
              "    }\n",
              "\n",
              "    [theme=dark] .colab-df-convert {\n",
              "      background-color: #3B4455;\n",
              "      fill: #D2E3FC;\n",
              "    }\n",
              "\n",
              "    [theme=dark] .colab-df-convert:hover {\n",
              "      background-color: #434B5C;\n",
              "      box-shadow: 0px 1px 3px 1px rgba(0, 0, 0, 0.15);\n",
              "      filter: drop-shadow(0px 1px 2px rgba(0, 0, 0, 0.3));\n",
              "      fill: #FFFFFF;\n",
              "    }\n",
              "  </style>\n",
              "\n",
              "      <script>\n",
              "        const buttonEl =\n",
              "          document.querySelector('#df-f12494e8-ab0f-4878-9b39-b155113e14a3 button.colab-df-convert');\n",
              "        buttonEl.style.display =\n",
              "          google.colab.kernel.accessAllowed ? 'block' : 'none';\n",
              "\n",
              "        async function convertToInteractive(key) {\n",
              "          const element = document.querySelector('#df-f12494e8-ab0f-4878-9b39-b155113e14a3');\n",
              "          const dataTable =\n",
              "            await google.colab.kernel.invokeFunction('convertToInteractive',\n",
              "                                                     [key], {});\n",
              "          if (!dataTable) return;\n",
              "\n",
              "          const docLinkHtml = 'Like what you see? Visit the ' +\n",
              "            '<a target=\"_blank\" href=https://colab.research.google.com/notebooks/data_table.ipynb>data table notebook</a>'\n",
              "            + ' to learn more about interactive tables.';\n",
              "          element.innerHTML = '';\n",
              "          dataTable['output_type'] = 'display_data';\n",
              "          await google.colab.output.renderOutput(dataTable, element);\n",
              "          const docLink = document.createElement('div');\n",
              "          docLink.innerHTML = docLinkHtml;\n",
              "          element.appendChild(docLink);\n",
              "        }\n",
              "      </script>\n",
              "    </div>\n",
              "  </div>\n",
              "  "
            ]
          },
          "metadata": {},
          "execution_count": 6
        }
      ]
    },
    {
      "cell_type": "code",
      "source": [
        "# Plotting the time series.\n",
        "plt.figure(figsize=(16,6))\n",
        "plt.plot(stock_data['Close'])\n",
        "plt.show()"
      ],
      "metadata": {
        "colab": {
          "base_uri": "https://localhost:8080/",
          "height": 349
        },
        "id": "SiNJLTTFM3UZ",
        "outputId": "a9070401-fedc-4f4a-b908-e17acfef96d4"
      },
      "execution_count": 7,
      "outputs": [
        {
          "output_type": "display_data",
          "data": {
            "text/plain": [
              "<Figure size 1152x432 with 1 Axes>"
            ],
            "image/png": "[encoded data removed]"
          },
          "metadata": {}
        }
      ]
    },
    {
      "cell_type": "code",
      "source": [
        "stock_data.info()"
      ],
      "metadata": {
        "colab": {
          "base_uri": "https://localhost:8080/"
        },
        "id": "OrJkY29LFAmj",
        "outputId": "7242527d-b4cf-4f41-d92f-1315da54e69b"
      },
      "execution_count": 8,
      "outputs": [
        {
          "output_type": "stream",
          "name": "stdout",
          "text": [
            "<class 'pandas.core.frame.DataFrame'>\n",
            "RangeIndex: 317 entries, 0 to 316\n",
            "Data columns (total 7 columns):\n",
            " #   Column     Non-Null Count  Dtype  \n",
            "---  ------     --------------  -----  \n",
            " 0   Date       317 non-null    object \n",
            " 1   Open       317 non-null    float64\n",
            " 2   High       317 non-null    float64\n",
            " 3   Low        317 non-null    float64\n",
            " 4   Close      317 non-null    float64\n",
            " 5   Adj Close  317 non-null    float64\n",
            " 6   Volume     317 non-null    int64  \n",
            "dtypes: float64(5), int64(1), object(1)\n",
            "memory usage: 17.5+ KB\n"
          ]
        }
      ]
    },
    {
      "cell_type": "code",
      "source": [
        "data=stock_data.filter(['Close'])"
      ],
      "metadata": {
        "id": "Kz9UwnKcYVaP"
      },
      "execution_count": 9,
      "outputs": []
    },
    {
      "cell_type": "code",
      "source": [
        "data"
      ],
      "metadata": {
        "colab": {
          "base_uri": "https://localhost:8080/",
          "height": 424
        },
        "id": "LCrnaPaLFAgu",
        "outputId": "52b32978-197c-470a-b6be-825d39a4b7aa"
      },
      "execution_count": 10,
      "outputs": [
        {
          "output_type": "execute_result",
          "data": {
            "text/plain": [
              "         Close\n",
              "0    30.020000\n",
              "1    34.150002\n",
              "2    31.760000\n",
              "3    31.809999\n",
              "4    31.770000\n",
              "..         ...\n",
              "312  10.100000\n",
              "313  10.100000\n",
              "314  11.910000\n",
              "315  11.650000\n",
              "316  11.980000\n",
              "\n",
              "[317 rows x 1 columns]"
            ],
            "text/html": [
              "\n",
              "  <div id=\"df-a7997e10-cd4b-4da2-9d04-9e82a796996d\">\n",
              "    <div class=\"colab-df-container\">\n",
              "      <div>\n",
              "<style scoped>\n",
              "    .dataframe tbody tr th:only-of-type {\n",
              "        vertical-align: middle;\n",
              "    }\n",
              "\n",
              "    .dataframe tbody tr th {\n",
              "        vertical-align: top;\n",
              "    }\n",
              "\n",
              "    .dataframe thead th {\n",
              "        text-align: right;\n",
              "    }\n",
              "</style>\n",
              "<table border=\"1\" class=\"dataframe\">\n",
              "  <thead>\n",
              "    <tr style=\"text-align: right;\">\n",
              "      <th></th>\n",
              "      <th>Close</th>\n",
              "    </tr>\n",
              "  </thead>\n",
              "  <tbody>\n",
              "    <tr>\n",
              "      <th>0</th>\n",
              "      <td>30.020000</td>\n",
              "    </tr>\n",
              "    <tr>\n",
              "      <th>1</th>\n",
              "      <td>34.150002</td>\n",
              "    </tr>\n",
              "    <tr>\n",
              "      <th>2</th>\n",
              "      <td>31.760000</td>\n",
              "    </tr>\n",
              "    <tr>\n",
              "      <th>3</th>\n",
              "      <td>31.809999</td>\n",
              "    </tr>\n",
              "    <tr>\n",
              "      <th>4</th>\n",
              "      <td>31.770000</td>\n",
              "    </tr>\n",
              "    <tr>\n",
              "      <th>...</th>\n",
              "      <td>...</td>\n",
              "    </tr>\n",
              "    <tr>\n",
              "      <th>312</th>\n",
              "      <td>10.100000</td>\n",
              "    </tr>\n",
              "    <tr>\n",
              "      <th>313</th>\n",
              "      <td>10.100000</td>\n",
              "    </tr>\n",
              "    <tr>\n",
              "      <th>314</th>\n",
              "      <td>11.910000</td>\n",
              "    </tr>\n",
              "    <tr>\n",
              "      <th>315</th>\n",
              "      <td>11.650000</td>\n",
              "    </tr>\n",
              "    <tr>\n",
              "      <th>316</th>\n",
              "      <td>11.980000</td>\n",
              "    </tr>\n",
              "  </tbody>\n",
              "</table>\n",
              "<p>317 rows × 1 columns</p>\n",
              "</div>\n",
              "      <button class=\"colab-df-convert\" onclick=\"convertToInteractive('df-a7997e10-cd4b-4da2-9d04-9e82a796996d')\"\n",
              "              title=\"Convert this dataframe to an interactive table.\"\n",
              "              style=\"display:none;\">\n",
              "        \n",
              "  <svg xmlns=\"http://www.w3.org/2000/svg\" height=\"24px\"viewBox=\"0 0 24 24\"\n",
              "       width=\"24px\">\n",
              "    <path d=\"M0 0h24v24H0V0z\" fill=\"none\"/>\n",
              "    <path d=\"M18.56 5.44l.94 2.06.94-2.06 2.06-.94-2.06-.94-.94-2.06-.94 2.06-2.06.94zm-11 1L8.5 8.5l.94-2.06 2.06-.94-2.06-.94L8.5 2.5l-.94 2.06-2.06.94zm10 10l.94 2.06.94-2.06 2.06-.94-2.06-.94-.94-2.06-.94 2.06-2.06.94z\"/><path d=\"M17.41 7.96l-1.37-1.37c-.4-.4-.92-.59-1.43-.59-.52 0-1.04.2-1.43.59L10.3 9.45l-7.72 7.72c-.78.78-.78 2.05 0 2.83L4 21.41c.39.39.9.59 1.41.59.51 0 1.02-.2 1.41-.59l7.78-7.78 2.81-2.81c.8-.78.8-2.07 0-2.86zM5.41 20L4 18.59l7.72-7.72 1.47 1.35L5.41 20z\"/>\n",
              "  </svg>\n",
              "      </button>\n",
              "      \n",
              "  <style>\n",
              "    .colab-df-container {\n",
              "      display:flex;\n",
              "      flex-wrap:wrap;\n",
              "      gap: 12px;\n",
              "    }\n",
              "\n",
              "    .colab-df-convert {\n",
              "      background-color: #E8F0FE;\n",
              "      border: none;\n",
              "      border-radius: 50%;\n",
              "      cursor: pointer;\n",
              "      display: none;\n",
              "      fill: #1967D2;\n",
              "      height: 32px;\n",
              "      padding: 0 0 0 0;\n",
              "      width: 32px;\n",
              "    }\n",
              "\n",
              "    .colab-df-convert:hover {\n",
              "      background-color: #E2EBFA;\n",
              "      box-shadow: 0px 1px 2px rgba(60, 64, 67, 0.3), 0px 1px 3px 1px rgba(60, 64, 67, 0.15);\n",
              "      fill: #174EA6;\n",
              "    }\n",
              "\n",
              "    [theme=dark] .colab-df-convert {\n",
              "      background-color: #3B4455;\n",
              "      fill: #D2E3FC;\n",
              "    }\n",
              "\n",
              "    [theme=dark] .colab-df-convert:hover {\n",
              "      background-color: #434B5C;\n",
              "      box-shadow: 0px 1px 3px 1px rgba(0, 0, 0, 0.15);\n",
              "      filter: drop-shadow(0px 1px 2px rgba(0, 0, 0, 0.3));\n",
              "      fill: #FFFFFF;\n",
              "    }\n",
              "  </style>\n",
              "\n",
              "      <script>\n",
              "        const buttonEl =\n",
              "          document.querySelector('#df-a7997e10-cd4b-4da2-9d04-9e82a796996d button.colab-df-convert');\n",
              "        buttonEl.style.display =\n",
              "          google.colab.kernel.accessAllowed ? 'block' : 'none';\n",
              "\n",
              "        async function convertToInteractive(key) {\n",
              "          const element = document.querySelector('#df-a7997e10-cd4b-4da2-9d04-9e82a796996d');\n",
              "          const dataTable =\n",
              "            await google.colab.kernel.invokeFunction('convertToInteractive',\n",
              "                                                     [key], {});\n",
              "          if (!dataTable) return;\n",
              "\n",
              "          const docLinkHtml = 'Like what you see? Visit the ' +\n",
              "            '<a target=\"_blank\" href=https://colab.research.google.com/notebooks/data_table.ipynb>data table notebook</a>'\n",
              "            + ' to learn more about interactive tables.';\n",
              "          element.innerHTML = '';\n",
              "          dataTable['output_type'] = 'display_data';\n",
              "          await google.colab.output.renderOutput(dataTable, element);\n",
              "          const docLink = document.createElement('div');\n",
              "          docLink.innerHTML = docLinkHtml;\n",
              "          element.appendChild(docLink);\n",
              "        }\n",
              "      </script>\n",
              "    </div>\n",
              "  </div>\n",
              "  "
            ]
          },
          "metadata": {},
          "execution_count": 10
        }
      ]
    },
    {
      "cell_type": "code",
      "source": [
        "dataset=data.values"
      ],
      "metadata": {
        "id": "5Yqc_L59FAd3"
      },
      "execution_count": 11,
      "outputs": []
    },
    {
      "cell_type": "code",
      "source": [
        "training_data_len=math.ceil(len(dataset)*0.8)"
      ],
      "metadata": {
        "id": "4ejQ77jfFAa5"
      },
      "execution_count": 12,
      "outputs": []
    },
    {
      "cell_type": "code",
      "source": [
        "training_data_len"
      ],
      "metadata": {
        "colab": {
          "base_uri": "https://localhost:8080/"
        },
        "id": "vi7PuVCpFAVb",
        "outputId": "a1905a4c-23ae-4979-a797-5c4e2896e966"
      },
      "execution_count": 13,
      "outputs": [
        {
          "output_type": "execute_result",
          "data": {
            "text/plain": [
              "254"
            ]
          },
          "metadata": {},
          "execution_count": 13
        }
      ]
    },
    {
      "cell_type": "code",
      "source": [
        "scaler=MinMaxScaler(feature_range=(0,1))"
      ],
      "metadata": {
        "id": "SQNZqyrpI2GF"
      },
      "execution_count": 14,
      "outputs": []
    },
    {
      "cell_type": "code",
      "source": [
        "scaled_data=scaler.fit_transform(dataset)"
      ],
      "metadata": {
        "id": "uKCnb_SOI182"
      },
      "execution_count": 15,
      "outputs": []
    },
    {
      "cell_type": "code",
      "source": [
        "scaled_data"
      ],
      "metadata": {
        "colab": {
          "base_uri": "https://localhost:8080/"
        },
        "id": "I3oq6OKvTQlX",
        "outputId": "3045be1a-18fc-4d88-f2d4-8036522deae7"
      },
      "execution_count": 16,
      "outputs": [
        {
          "output_type": "execute_result",
          "data": {
            "text/plain": [
              "array([[0.53280598],\n",
              "       [0.62889724],\n",
              "       [0.57328993],\n",
              "       [0.57445324],\n",
              "       [0.5735226 ],\n",
              "       [0.56375061],\n",
              "       [0.53978597],\n",
              "       [0.58375989],\n",
              "       [0.60516524],\n",
              "       [0.62401117],\n",
              "       [0.62959519],\n",
              "       [0.64634721],\n",
              "       [0.6254072 ],\n",
              "       [0.63099123],\n",
              "       [0.68380641],\n",
              "       [0.68124717],\n",
              "       [0.82573296],\n",
              "       [0.88622617],\n",
              "       [0.91647277],\n",
              "       [0.84341556],\n",
              "       [0.84550956],\n",
              "       [0.96789211],\n",
              "       [0.93159613],\n",
              "       [1.        ],\n",
              "       [0.90158215],\n",
              "       [0.85900425],\n",
              "       [0.90553752],\n",
              "       [0.88506286],\n",
              "       [0.8711029 ],\n",
              "       [0.82666365],\n",
              "       [0.8636576 ],\n",
              "       [0.89436954],\n",
              "       [0.77082367],\n",
              "       [0.73825034],\n",
              "       [0.73266641],\n",
              "       [0.68939045],\n",
              "       [0.74360176],\n",
              "       [0.79222893],\n",
              "       [0.77966502],\n",
              "       [0.75919036],\n",
              "       [0.74383438],\n",
              "       [0.70637509],\n",
              "       [0.68939045],\n",
              "       [0.67868782],\n",
              "       [0.68124717],\n",
              "       [0.67705915],\n",
              "       [0.68334117],\n",
              "       [0.67868782],\n",
              "       [0.75779433],\n",
              "       [0.75476972],\n",
              "       [0.76547235],\n",
              "       [0.76105173],\n",
              "       [0.78478361],\n",
              "       [0.81177291],\n",
              "       [0.81921833],\n",
              "       [0.81223826],\n",
              "       [0.79897628],\n",
              "       [0.75732898],\n",
              "       [0.72266174],\n",
              "       [0.68939045],\n",
              "       [0.65425787],\n",
              "       [0.70404845],\n",
              "       [0.69543973],\n",
              "       [0.6784551 ],\n",
              "       [0.75221039],\n",
              "       [0.80805025],\n",
              "       [0.78850627],\n",
              "       [0.8657516 ],\n",
              "       [0.88971621],\n",
              "       [0.86970688],\n",
              "       [0.88552819],\n",
              "       [0.81572828],\n",
              "       [0.8199163 ],\n",
              "       [0.84946493],\n",
              "       [0.85388557],\n",
              "       [0.77664033],\n",
              "       [0.780363  ],\n",
              "       [0.82131223],\n",
              "       [0.79315962],\n",
              "       [0.7356911 ],\n",
              "       [0.71126106],\n",
              "       [0.71265708],\n",
              "       [0.7491857 ],\n",
              "       [0.72615178],\n",
              "       [0.74220571],\n",
              "       [0.73545839],\n",
              "       [0.739879  ],\n",
              "       [0.69846441],\n",
              "       [0.71637974],\n",
              "       [0.67612846],\n",
              "       [0.70358312],\n",
              "       [0.70684042],\n",
              "       [0.70311776],\n",
              "       [0.66821781],\n",
              "       [0.65635187],\n",
              "       [0.69055375],\n",
              "       [0.68985578],\n",
              "       [0.69474177],\n",
              "       [0.67961851],\n",
              "       [0.6724058 ],\n",
              "       [0.69264775],\n",
              "       [0.67147514],\n",
              "       [0.70730576],\n",
              "       [0.69520711],\n",
              "       [0.70079114],\n",
              "       [0.66379719],\n",
              "       [0.5963239 ],\n",
              "       [0.6056306 ],\n",
              "       [0.61633323],\n",
              "       [0.63750585],\n",
              "       [0.63261988],\n",
              "       [0.81782228],\n",
              "       [0.80595625],\n",
              "       [0.83061893],\n",
              "       [0.7680317 ],\n",
              "       [0.76919501],\n",
              "       [0.74127505],\n",
              "       [0.62773381],\n",
              "       [0.64774314],\n",
              "       [0.61889256],\n",
              "       [0.6254072 ],\n",
              "       [0.58469058],\n",
              "       [0.5490926 ],\n",
              "       [0.57771061],\n",
              "       [0.59865052],\n",
              "       [0.54862732],\n",
              "       [0.60120987],\n",
              "       [0.59702188],\n",
              "       [0.61284319],\n",
              "       [0.6077246 ],\n",
              "       [0.55304793],\n",
              "       [0.58399261],\n",
              "       [0.53280598],\n",
              "       [0.56165661],\n",
              "       [0.60935324],\n",
              "       [0.61889256],\n",
              "       [0.56072592],\n",
              "       [0.40786414],\n",
              "       [0.43322478],\n",
              "       [0.4190321 ],\n",
              "       [0.41670549],\n",
              "       [0.36807822],\n",
              "       [0.4190321 ],\n",
              "       [0.39064683],\n",
              "       [0.42182412],\n",
              "       [0.42787345],\n",
              "       [0.44765011],\n",
              "       [0.44206612],\n",
              "       [0.43252675],\n",
              "       [0.44648674],\n",
              "       [0.47370872],\n",
              "       [0.47557003],\n",
              "       [0.45788739],\n",
              "       [0.44509076],\n",
              "       [0.39832482],\n",
              "       [0.37668683],\n",
              "       [0.3585389 ],\n",
              "       [0.42764078],\n",
              "       [0.41181947],\n",
              "       [0.41065614],\n",
              "       [0.39250816],\n",
              "       [0.37598887],\n",
              "       [0.34411356],\n",
              "       [0.3369009 ],\n",
              "       [0.31200562],\n",
              "       [0.32201023],\n",
              "       [0.34620755],\n",
              "       [0.33969287],\n",
              "       [0.32759427],\n",
              "       [0.31060958],\n",
              "       [0.32363894],\n",
              "       [0.35737554],\n",
              "       [0.36691484],\n",
              "       [0.34527687],\n",
              "       [0.30828296],\n",
              "       [0.33434157],\n",
              "       [0.29269431],\n",
              "       [0.30874825],\n",
              "       [0.32643091],\n",
              "       [0.31689159],\n",
              "       [0.28524894],\n",
              "       [0.27245232],\n",
              "       [0.2857143 ],\n",
              "       [0.27640764],\n",
              "       [0.23662172],\n",
              "       [0.22010238],\n",
              "       [0.21498375],\n",
              "       [0.21614706],\n",
              "       [0.22335969],\n",
              "       [0.21800839],\n",
              "       [0.21661239],\n",
              "       [0.17240578],\n",
              "       [0.17892044],\n",
              "       [0.15960913],\n",
              "       [0.14704514],\n",
              "       [0.14983714],\n",
              "       [0.16100513],\n",
              "       [0.23662172],\n",
              "       [0.23359703],\n",
              "       [0.21917174],\n",
              "       [0.21009773],\n",
              "       [0.21707774],\n",
              "       [0.26012098],\n",
              "       [0.27408098],\n",
              "       [0.29060032],\n",
              "       [0.29036763],\n",
              "       [0.31177293],\n",
              "       [0.31526293],\n",
              "       [0.33061891],\n",
              "       [0.31945092],\n",
              "       [0.31735692],\n",
              "       [0.34830155],\n",
              "       [0.34667289],\n",
              "       [0.33503957],\n",
              "       [0.35528152],\n",
              "       [0.37389488],\n",
              "       [0.35830621],\n",
              "       [0.35946954],\n",
              "       [0.35342019],\n",
              "       [0.33387621],\n",
              "       [0.32782689],\n",
              "       [0.30642163],\n",
              "       [0.30456025],\n",
              "       [0.28687765],\n",
              "       [0.26174969],\n",
              "       [0.26547235],\n",
              "       [0.24592837],\n",
              "       [0.22452304],\n",
              "       [0.20311774],\n",
              "       [0.21219173],\n",
              "       [0.20986504],\n",
              "       [0.20172174],\n",
              "       [0.21242439],\n",
              "       [0.19869708],\n",
              "       [0.20986504],\n",
              "       [0.20660773],\n",
              "       [0.21800839],\n",
              "       [0.18683109],\n",
              "       [0.16309912],\n",
              "       [0.13657516],\n",
              "       [0.14471848],\n",
              "       [0.12121918],\n",
              "       [0.13331783],\n",
              "       [0.05863192],\n",
              "       [0.05932992],\n",
              "       [0.07119591],\n",
              "       [0.05095393],\n",
              "       [0.04420661],\n",
              "       [0.04141461],\n",
              "       [0.03629595],\n",
              "       [0.03140996],\n",
              "       [0.03815728],\n",
              "       [0.04025128],\n",
              "       [0.0497906 ],\n",
              "       [0.04141461],\n",
              "       [0.03420196],\n",
              "       [0.04746394],\n",
              "       [0.03350396],\n",
              "       [0.03117729],\n",
              "       [0.03024663],\n",
              "       [0.03257329],\n",
              "       [0.02373197],\n",
              "       [0.01489065],\n",
              "       [0.        ],\n",
              "       [0.002094  ],\n",
              "       [0.01535598],\n",
              "       [0.00162866],\n",
              "       [0.00628199],\n",
              "       [0.00721266],\n",
              "       [0.00511866],\n",
              "       [0.01768264],\n",
              "       [0.03094463],\n",
              "       [0.02512797],\n",
              "       [0.02256864],\n",
              "       [0.02722196],\n",
              "       [0.04630061],\n",
              "       [0.0525826 ],\n",
              "       [0.05374593],\n",
              "       [0.05723593],\n",
              "       [0.06537925],\n",
              "       [0.06537925],\n",
              "       [0.05490926],\n",
              "       [0.06072592],\n",
              "       [0.05979526],\n",
              "       [0.05700326],\n",
              "       [0.06700791],\n",
              "       [0.06747325],\n",
              "       [0.08166589],\n",
              "       [0.08166589],\n",
              "       [0.07701257],\n",
              "       [0.06910191],\n",
              "       [0.06188925],\n",
              "       [0.0490926 ],\n",
              "       [0.06142392],\n",
              "       [0.07259191],\n",
              "       [0.0802699 ],\n",
              "       [0.08282923],\n",
              "       [0.08934389],\n",
              "       [0.09981387],\n",
              "       [0.09120522],\n",
              "       [0.10888786],\n",
              "       [0.13401583],\n",
              "       [0.10865519],\n",
              "       [0.12843183],\n",
              "       [0.11935785],\n",
              "       [0.13099116],\n",
              "       [0.13331783],\n",
              "       [0.14215915],\n",
              "       [0.12750117],\n",
              "       [0.10795719],\n",
              "       [0.08562122],\n",
              "       [0.07073058],\n",
              "       [0.06933458],\n",
              "       [0.06933458],\n",
              "       [0.11144719],\n",
              "       [0.10539786],\n",
              "       [0.11307585]])"
            ]
          },
          "metadata": {},
          "execution_count": 16
        }
      ]
    },
    {
      "cell_type": "code",
      "source": [
        "train_data = scaled_data[:training_data_len]"
      ],
      "metadata": {
        "id": "H4OwwUe8TWUG"
      },
      "execution_count": 17,
      "outputs": []
    },
    {
      "cell_type": "code",
      "source": [
        "x_train=[]\n",
        "y_train=[]\n",
        "\n",
        "for i in range(60,len(train_data)):\n",
        "  x_train.append(train_data[i-60:i,0])\n",
        "  y_train.append(train_data[i,0])\n",
        "\n",
        "  if i<=61:\n",
        "    print(x_train)\n",
        "    print(y_train)\n",
        "    print()\n",
        "\n"
      ],
      "metadata": {
        "colab": {
          "base_uri": "https://localhost:8080/"
        },
        "id": "pASjhm8OTlMU",
        "outputId": "dd055747-259f-4336-b000-eb3a40720eb2"
      },
      "execution_count": 18,
      "outputs": [
        {
          "output_type": "stream",
          "name": "stdout",
          "text": [
            "[array([0.53280598, 0.62889724, 0.57328993, 0.57445324, 0.5735226 ,\n",
            "       0.56375061, 0.53978597, 0.58375989, 0.60516524, 0.62401117,\n",
            "       0.62959519, 0.64634721, 0.6254072 , 0.63099123, 0.68380641,\n",
            "       0.68124717, 0.82573296, 0.88622617, 0.91647277, 0.84341556,\n",
            "       0.84550956, 0.96789211, 0.93159613, 1.        , 0.90158215,\n",
            "       0.85900425, 0.90553752, 0.88506286, 0.8711029 , 0.82666365,\n",
            "       0.8636576 , 0.89436954, 0.77082367, 0.73825034, 0.73266641,\n",
            "       0.68939045, 0.74360176, 0.79222893, 0.77966502, 0.75919036,\n",
            "       0.74383438, 0.70637509, 0.68939045, 0.67868782, 0.68124717,\n",
            "       0.67705915, 0.68334117, 0.67868782, 0.75779433, 0.75476972,\n",
            "       0.76547235, 0.76105173, 0.78478361, 0.81177291, 0.81921833,\n",
            "       0.81223826, 0.79897628, 0.75732898, 0.72266174, 0.68939045])]\n",
            "[0.654257871300971]\n",
            "\n",
            "[array([0.53280598, 0.62889724, 0.57328993, 0.57445324, 0.5735226 ,\n",
            "       0.56375061, 0.53978597, 0.58375989, 0.60516524, 0.62401117,\n",
            "       0.62959519, 0.64634721, 0.6254072 , 0.63099123, 0.68380641,\n",
            "       0.68124717, 0.82573296, 0.88622617, 0.91647277, 0.84341556,\n",
            "       0.84550956, 0.96789211, 0.93159613, 1.        , 0.90158215,\n",
            "       0.85900425, 0.90553752, 0.88506286, 0.8711029 , 0.82666365,\n",
            "       0.8636576 , 0.89436954, 0.77082367, 0.73825034, 0.73266641,\n",
            "       0.68939045, 0.74360176, 0.79222893, 0.77966502, 0.75919036,\n",
            "       0.74383438, 0.70637509, 0.68939045, 0.67868782, 0.68124717,\n",
            "       0.67705915, 0.68334117, 0.67868782, 0.75779433, 0.75476972,\n",
            "       0.76547235, 0.76105173, 0.78478361, 0.81177291, 0.81921833,\n",
            "       0.81223826, 0.79897628, 0.75732898, 0.72266174, 0.68939045]), array([0.62889724, 0.57328993, 0.57445324, 0.5735226 , 0.56375061,\n",
            "       0.53978597, 0.58375989, 0.60516524, 0.62401117, 0.62959519,\n",
            "       0.64634721, 0.6254072 , 0.63099123, 0.68380641, 0.68124717,\n",
            "       0.82573296, 0.88622617, 0.91647277, 0.84341556, 0.84550956,\n",
            "       0.96789211, 0.93159613, 1.        , 0.90158215, 0.85900425,\n",
            "       0.90553752, 0.88506286, 0.8711029 , 0.82666365, 0.8636576 ,\n",
            "       0.89436954, 0.77082367, 0.73825034, 0.73266641, 0.68939045,\n",
            "       0.74360176, 0.79222893, 0.77966502, 0.75919036, 0.74383438,\n",
            "       0.70637509, 0.68939045, 0.67868782, 0.68124717, 0.67705915,\n",
            "       0.68334117, 0.67868782, 0.75779433, 0.75476972, 0.76547235,\n",
            "       0.76105173, 0.78478361, 0.81177291, 0.81921833, 0.81223826,\n",
            "       0.79897628, 0.75732898, 0.72266174, 0.68939045, 0.65425787])]\n",
            "[0.654257871300971, 0.7040484506304536]\n",
            "\n"
          ]
        }
      ]
    },
    {
      "cell_type": "code",
      "source": [
        "x_train,y_train=np.array(x_train),np.array(y_train)"
      ],
      "metadata": {
        "id": "uS2YzL9GTlGb"
      },
      "execution_count": 19,
      "outputs": []
    },
    {
      "cell_type": "code",
      "source": [
        "x_train=np.reshape(x_train,(x_train.shape[0],x_train.shape[1],1))\n",
        "x_train.shape"
      ],
      "metadata": {
        "colab": {
          "base_uri": "https://localhost:8080/"
        },
        "id": "USrVVAgSTlDK",
        "outputId": "00afb608-ab42-476d-d41b-404c4adc2569"
      },
      "execution_count": 20,
      "outputs": [
        {
          "output_type": "execute_result",
          "data": {
            "text/plain": [
              "(194, 60, 1)"
            ]
          },
          "metadata": {},
          "execution_count": 20
        }
      ]
    },
    {
      "cell_type": "code",
      "source": [
        "model=Sequential()\n",
        "model.add(LSTM(50,return_sequences=True,input_shape=(x_train.shape[1],1)))\n",
        "model.add(LSTM(50,return_sequences=False))\n",
        "model.add(Dense(25))\n",
        "model.add(Dense(1))\n"
      ],
      "metadata": {
        "id": "PwysTp52TlAd"
      },
      "execution_count": 21,
      "outputs": []
    },
    {
      "cell_type": "code",
      "source": [
        "model.compile(optimizer='adam',loss='mean_squared_error')"
      ],
      "metadata": {
        "id": "uc5-KsfzTk9q"
      },
      "execution_count": 22,
      "outputs": []
    },
    {
      "cell_type": "code",
      "source": [
        "model.fit(x_train,y_train,batch_size=1,epochs=1)"
      ],
      "metadata": {
        "colab": {
          "base_uri": "https://localhost:8080/"
        },
        "id": "UzJJ_5kG_glr",
        "outputId": "fcabc684-f33d-438e-a718-821688bc5f00"
      },
      "execution_count": 23,
      "outputs": [
        {
          "output_type": "stream",
          "name": "stdout",
          "text": [
            "194/194 [==============================] - 5s 6ms/step - loss: 0.0200\n"
          ]
        },
        {
          "output_type": "execute_result",
          "data": {
            "text/plain": [
              "<keras.callbacks.History at 0x7f4fe469b590>"
            ]
          },
          "metadata": {},
          "execution_count": 23
        }
      ]
    },
    {
      "cell_type": "code",
      "source": [
        "test_data=scaled_data[training_data_len-60:,:]"
      ],
      "metadata": {
        "id": "j-lpng2v_gjG"
      },
      "execution_count": 24,
      "outputs": []
    },
    {
      "cell_type": "code",
      "source": [
        "x_test=[]\n",
        "y_test=dataset[training_data_len:,:]\n",
        "for i in range(60,len(test_data)):\n",
        "  x_test.append(test_data[i-60:i,0])"
      ],
      "metadata": {
        "id": "f56J4mjD_gg2"
      },
      "execution_count": 25,
      "outputs": []
    },
    {
      "cell_type": "code",
      "source": [
        "x_test=np.array(x_test)"
      ],
      "metadata": {
        "id": "1fgBg-q7BJHO"
      },
      "execution_count": 26,
      "outputs": []
    },
    {
      "cell_type": "code",
      "source": [
        "x_test=np.reshape(x_test,(x_test.shape[0],x_test.shape[1],1))"
      ],
      "metadata": {
        "id": "0UftpP7QBJEB"
      },
      "execution_count": 27,
      "outputs": []
    },
    {
      "cell_type": "code",
      "source": [
        "predictions=model.predict(x_test)\n",
        "predictions=scaler.inverse_transform(predictions)"
      ],
      "metadata": {
        "id": "2vRuAOxMBJAm"
      },
      "execution_count": 28,
      "outputs": []
    },
    {
      "cell_type": "code",
      "source": [
        "rmse=np.sqrt(np.mean(predictions-y_test)**2)\n",
        "rmse"
      ],
      "metadata": {
        "colab": {
          "base_uri": "https://localhost:8080/"
        },
        "id": "KCFjr3X5_gdJ",
        "outputId": "56c69257-9720-4f0e-ea7f-9f66036b0a4a"
      },
      "execution_count": 29,
      "outputs": [
        {
          "output_type": "execute_result",
          "data": {
            "text/plain": [
              "0.37942038157629593"
            ]
          },
          "metadata": {},
          "execution_count": 29
        }
      ]
    },
    {
      "cell_type": "code",
      "source": [
        "train=data[:training_data_len]\n",
        "valid=data[training_data_len:]\n",
        "valid['Predictions']=predictions\n",
        "plt.figure(figsize=(16,8))\n",
        "plt.title('Model')\n",
        "plt.xlabel('Date',fontsize=18)\n",
        "plt.ylabel('Close Price USD($)',fontsize=18)\n",
        "plt.plot(train['Close'])\n",
        "plt.plot(valid[['Close','Predictions']])\n",
        "plt.legend(['Train','Val','Predictions'],loc='upper right')"
      ],
      "metadata": {
        "colab": {
          "base_uri": "https://localhost:8080/",
          "height": 623
        },
        "id": "wAklRBvh2fcz",
        "outputId": "91c63e36-c144-4ac5-f2a9-64e3cc086f2c"
      },
      "execution_count": 30,
      "outputs": [
        {
          "output_type": "stream",
          "name": "stderr",
          "text": [
            "/usr/local/lib/python3.7/dist-packages/ipykernel_launcher.py:3: SettingWithCopyWarning: \n",
            "A value is trying to be set on a copy of a slice from a DataFrame.\n",
            "Try using .loc[row_indexer,col_indexer] = value instead\n",
            "\n",
            "See the caveats in the documentation: https://pandas.pydata.org/pandas-docs/stable/user_guide/indexing.html#returning-a-view-versus-a-copy\n",
            "  This is separate from the ipykernel package so we can avoid doing imports until\n"
          ]
        },
        {
          "output_type": "execute_result",
          "data": {
            "text/plain": [
              "<matplotlib.legend.Legend at 0x7f4fdee2edd0>"
            ]
          },
          "metadata": {},
          "execution_count": 30
        },
        {
          "output_type": "display_data",
          "data": {
            "text/plain": [
              "<Figure size 1152x576 with 1 Axes>"
            ],
            "image/png": "[encoded data removed]"
          },
          "metadata": {}
        }
      ]
    },
    {
      "cell_type": "code",
      "source": [
        "valid"
      ],
      "metadata": {
        "colab": {
          "base_uri": "https://localhost:8080/",
          "height": 424
        },
        "id": "cRdOauYH2faF",
        "outputId": "d3345c63-ba1b-4ca2-fbea-3e3ea7f3d0da"
      },
      "execution_count": 31,
      "outputs": [
        {
          "output_type": "execute_result",
          "data": {
            "text/plain": [
              "     Close  Predictions\n",
              "254   8.90     9.816530\n",
              "255   8.59     9.580965\n",
              "256   9.16     9.375564\n",
              "257   8.56     9.219857\n",
              "258   8.46     9.083793\n",
              "..     ...          ...\n",
              "312  10.10    11.841747\n",
              "313  10.10    11.728832\n",
              "314  11.91    11.577640\n",
              "315  11.65    11.472795\n",
              "316  11.98    11.395691\n",
              "\n",
              "[63 rows x 2 columns]"
            ],
            "text/html": [
              "\n",
              "  <div id=\"df-c095d3df-de0e-4891-9d5c-71f11d6d3287\">\n",
              "    <div class=\"colab-df-container\">\n",
              "      <div>\n",
              "<style scoped>\n",
              "    .dataframe tbody tr th:only-of-type {\n",
              "        vertical-align: middle;\n",
              "    }\n",
              "\n",
              "    .dataframe tbody tr th {\n",
              "        vertical-align: top;\n",
              "    }\n",
              "\n",
              "    .dataframe thead th {\n",
              "        text-align: right;\n",
              "    }\n",
              "</style>\n",
              "<table border=\"1\" class=\"dataframe\">\n",
              "  <thead>\n",
              "    <tr style=\"text-align: right;\">\n",
              "      <th></th>\n",
              "      <th>Close</th>\n",
              "      <th>Predictions</th>\n",
              "    </tr>\n",
              "  </thead>\n",
              "  <tbody>\n",
              "    <tr>\n",
              "      <th>254</th>\n",
              "      <td>8.90</td>\n",
              "      <td>9.816530</td>\n",
              "    </tr>\n",
              "    <tr>\n",
              "      <th>255</th>\n",
              "      <td>8.59</td>\n",
              "      <td>9.580965</td>\n",
              "    </tr>\n",
              "    <tr>\n",
              "      <th>256</th>\n",
              "      <td>9.16</td>\n",
              "      <td>9.375564</td>\n",
              "    </tr>\n",
              "    <tr>\n",
              "      <th>257</th>\n",
              "      <td>8.56</td>\n",
              "      <td>9.219857</td>\n",
              "    </tr>\n",
              "    <tr>\n",
              "      <th>258</th>\n",
              "      <td>8.46</td>\n",
              "      <td>9.083793</td>\n",
              "    </tr>\n",
              "    <tr>\n",
              "      <th>...</th>\n",
              "      <td>...</td>\n",
              "      <td>...</td>\n",
              "    </tr>\n",
              "    <tr>\n",
              "      <th>312</th>\n",
              "      <td>10.10</td>\n",
              "      <td>11.841747</td>\n",
              "    </tr>\n",
              "    <tr>\n",
              "      <th>313</th>\n",
              "      <td>10.10</td>\n",
              "      <td>11.728832</td>\n",
              "    </tr>\n",
              "    <tr>\n",
              "      <th>314</th>\n",
              "      <td>11.91</td>\n",
              "      <td>11.577640</td>\n",
              "    </tr>\n",
              "    <tr>\n",
              "      <th>315</th>\n",
              "      <td>11.65</td>\n",
              "      <td>11.472795</td>\n",
              "    </tr>\n",
              "    <tr>\n",
              "      <th>316</th>\n",
              "      <td>11.98</td>\n",
              "      <td>11.395691</td>\n",
              "    </tr>\n",
              "  </tbody>\n",
              "</table>\n",
              "<p>63 rows × 2 columns</p>\n",
              "</div>\n",
              "      <button class=\"colab-df-convert\" onclick=\"convertToInteractive('df-c095d3df-de0e-4891-9d5c-71f11d6d3287')\"\n",
              "              title=\"Convert this dataframe to an interactive table.\"\n",
              "              style=\"display:none;\">\n",
              "        \n",
              "  <svg xmlns=\"http://www.w3.org/2000/svg\" height=\"24px\"viewBox=\"0 0 24 24\"\n",
              "       width=\"24px\">\n",
              "    <path d=\"M0 0h24v24H0V0z\" fill=\"none\"/>\n",
              "    <path d=\"M18.56 5.44l.94 2.06.94-2.06 2.06-.94-2.06-.94-.94-2.06-.94 2.06-2.06.94zm-11 1L8.5 8.5l.94-2.06 2.06-.94-2.06-.94L8.5 2.5l-.94 2.06-2.06.94zm10 10l.94 2.06.94-2.06 2.06-.94-2.06-.94-.94-2.06-.94 2.06-2.06.94z\"/><path d=\"M17.41 7.96l-1.37-1.37c-.4-.4-.92-.59-1.43-.59-.52 0-1.04.2-1.43.59L10.3 9.45l-7.72 7.72c-.78.78-.78 2.05 0 2.83L4 21.41c.39.39.9.59 1.41.59.51 0 1.02-.2 1.41-.59l7.78-7.78 2.81-2.81c.8-.78.8-2.07 0-2.86zM5.41 20L4 18.59l7.72-7.72 1.47 1.35L5.41 20z\"/>\n",
              "  </svg>\n",
              "      </button>\n",
              "      \n",
              "  <style>\n",
              "    .colab-df-container {\n",
              "      display:flex;\n",
              "      flex-wrap:wrap;\n",
              "      gap: 12px;\n",
              "    }\n",
              "\n",
              "    .colab-df-convert {\n",
              "      background-color: #E8F0FE;\n",
              "      border: none;\n",
              "      border-radius: 50%;\n",
              "      cursor: pointer;\n",
              "      display: none;\n",
              "      fill: #1967D2;\n",
              "      height: 32px;\n",
              "      padding: 0 0 0 0;\n",
              "      width: 32px;\n",
              "    }\n",
              "\n",
              "    .colab-df-convert:hover {\n",
              "      background-color: #E2EBFA;\n",
              "      box-shadow: 0px 1px 2px rgba(60, 64, 67, 0.3), 0px 1px 3px 1px rgba(60, 64, 67, 0.15);\n",
              "      fill: #174EA6;\n",
              "    }\n",
              "\n",
              "    [theme=dark] .colab-df-convert {\n",
              "      background-color: #3B4455;\n",
              "      fill: #D2E3FC;\n",
              "    }\n",
              "\n",
              "    [theme=dark] .colab-df-convert:hover {\n",
              "      background-color: #434B5C;\n",
              "      box-shadow: 0px 1px 3px 1px rgba(0, 0, 0, 0.15);\n",
              "      filter: drop-shadow(0px 1px 2px rgba(0, 0, 0, 0.3));\n",
              "      fill: #FFFFFF;\n",
              "    }\n",
              "  </style>\n",
              "\n",
              "      <script>\n",
              "        const buttonEl =\n",
              "          document.querySelector('#df-c095d3df-de0e-4891-9d5c-71f11d6d3287 button.colab-df-convert');\n",
              "        buttonEl.style.display =\n",
              "          google.colab.kernel.accessAllowed ? 'block' : 'none';\n",
              "\n",
              "        async function convertToInteractive(key) {\n",
              "          const element = document.querySelector('#df-c095d3df-de0e-4891-9d5c-71f11d6d3287');\n",
              "          const dataTable =\n",
              "            await google.colab.kernel.invokeFunction('convertToInteractive',\n",
              "                                                     [key], {});\n",
              "          if (!dataTable) return;\n",
              "\n",
              "          const docLinkHtml = 'Like what you see? Visit the ' +\n",
              "            '<a target=\"_blank\" href=https://colab.research.google.com/notebooks/data_table.ipynb>data table notebook</a>'\n",
              "            + ' to learn more about interactive tables.';\n",
              "          element.innerHTML = '';\n",
              "          dataTable['output_type'] = 'display_data';\n",
              "          await google.colab.output.renderOutput(dataTable, element);\n",
              "          const docLink = document.createElement('div');\n",
              "          docLink.innerHTML = docLinkHtml;\n",
              "          element.appendChild(docLink);\n",
              "        }\n",
              "      </script>\n",
              "    </div>\n",
              "  </div>\n",
              "  "
            ]
          },
          "metadata": {},
          "execution_count": 31
        }
      ]
    },
    {
      "cell_type": "code",
      "source": [
        "!pip install yfinance"
      ],
      "metadata": {
        "colab": {
          "base_uri": "https://localhost:8080/"
        },
        "id": "9-IadCE9G6it",
        "outputId": "6f5b0978-642a-43e9-bad4-98f6c2cabb34"
      },
      "execution_count": 32,
      "outputs": [
        {
          "output_type": "stream",
          "name": "stdout",
          "text": [
            "Looking in indexes: https://pypi.org/simple, https://us-python.pkg.dev/colab-wheels/public/simple/\n",
            "Requirement already satisfied: yfinance in /usr/local/lib/python3.7/dist-packages (0.1.74)\n",
            "Requirement already satisfied: multitasking>=0.0.7 in /usr/local/lib/python3.7/dist-packages (from yfinance) (0.0.11)\n",
            "Requirement already satisfied: requests>=2.26 in /usr/local/lib/python3.7/dist-packages (from yfinance) (2.28.1)\n",
            "Requirement already satisfied: lxml>=4.5.1 in /usr/local/lib/python3.7/dist-packages (from yfinance) (4.9.1)\n",
            "Requirement already satisfied: numpy>=1.15 in /usr/local/lib/python3.7/dist-packages (from yfinance) (1.21.6)\n",
            "Requirement already satisfied: pandas>=0.24.0 in /usr/local/lib/python3.7/dist-packages (from yfinance) (1.3.5)\n",
            "Requirement already satisfied: pytz>=2017.3 in /usr/local/lib/python3.7/dist-packages (from pandas>=0.24.0->yfinance) (2022.2.1)\n",
            "Requirement already satisfied: python-dateutil>=2.7.3 in /usr/local/lib/python3.7/dist-packages (from pandas>=0.24.0->yfinance) (2.8.2)\n",
            "Requirement already satisfied: six>=1.5 in /usr/local/lib/python3.7/dist-packages (from python-dateutil>=2.7.3->pandas>=0.24.0->yfinance) (1.15.0)\n",
            "Requirement already satisfied: idna<4,>=2.5 in /usr/local/lib/python3.7/dist-packages (from requests>=2.26->yfinance) (2.10)\n",
            "Requirement already satisfied: urllib3<1.27,>=1.21.1 in /usr/local/lib/python3.7/dist-packages (from requests>=2.26->yfinance) (1.24.3)\n",
            "Requirement already satisfied: charset-normalizer<3,>=2 in /usr/local/lib/python3.7/dist-packages (from requests>=2.26->yfinance) (2.1.1)\n",
            "Requirement already satisfied: certifi>=2017.4.17 in /usr/local/lib/python3.7/dist-packages (from requests>=2.26->yfinance) (2022.6.15)\n"
          ]
        }
      ]
    },
    {
      "cell_type": "code",
      "source": [
        "from pandas_datareader import data as pdr\n",
        "\n",
        "import yfinance as yf\n",
        "yf.pdr_override()\n",
        "\n",
        "# download dataframe using pandas_datareader\n",
        "figs_quote = pdr.get_data_yahoo(\"FIGS\", start=\"2019-12-17\", end='2022-08-31')"
      ],
      "metadata": {
        "colab": {
          "base_uri": "https://localhost:8080/"
        },
        "id": "wMm7B-ftGZo6",
        "outputId": "cdd6b933-5324-4ab7-a629-2fd6383f2ef8"
      },
      "execution_count": 33,
      "outputs": [
        {
          "output_type": "stream",
          "name": "stdout",
          "text": [
            "\r[*********************100%***********************]  1 of 1 completed\n"
          ]
        }
      ]
    },
    {
      "cell_type": "code",
      "source": [
        "figs_quote"
      ],
      "metadata": {
        "colab": {
          "base_uri": "https://localhost:8080/",
          "height": 455
        },
        "id": "pah3Cc-WHMjo",
        "outputId": "df597a75-1160-4fee-9da3-8eb65ceab88f"
      },
      "execution_count": 35,
      "outputs": [
        {
          "output_type": "execute_result",
          "data": {
            "text/plain": [
              "                 Open       High        Low      Close  Adj Close    Volume\n",
              "Date                                                                       \n",
              "2021-05-27  28.299999  32.110001  28.250000  30.020000  30.020000  13079000\n",
              "2021-05-28  30.500000  34.369999  29.500000  34.150002  34.150002   3491000\n",
              "2021-06-01  35.470001  36.090000  30.580000  31.760000  31.760000   4806300\n",
              "2021-06-02  31.760000  32.169998  30.120001  31.809999  31.809999   2479400\n",
              "2021-06-03  31.000000  32.900002  30.770000  31.770000  31.770000   2881600\n",
              "...               ...        ...        ...        ...        ...       ...\n",
              "2022-08-24  10.070000  10.300000   9.950000  10.100000  10.100000   2779700\n",
              "2022-08-25  10.770000  11.940000  10.450000  11.910000  11.910000  17658200\n",
              "2022-08-26  11.870000  12.050000  11.420000  11.650000  11.650000   6537100\n",
              "2022-08-29  11.470000  12.250000  11.450000  11.980000  11.980000   6055300\n",
              "2022-08-30  11.990000  12.120000  11.340000  11.520000  11.520000   4034100\n",
              "\n",
              "[318 rows x 6 columns]"
            ],
            "text/html": [
              "\n",
              "  <div id=\"df-7229daf5-4ec0-4120-937b-bbb7614c09fb\">\n",
              "    <div class=\"colab-df-container\">\n",
              "      <div>\n",
              "<style scoped>\n",
              "    .dataframe tbody tr th:only-of-type {\n",
              "        vertical-align: middle;\n",
              "    }\n",
              "\n",
              "    .dataframe tbody tr th {\n",
              "        vertical-align: top;\n",
              "    }\n",
              "\n",
              "    .dataframe thead th {\n",
              "        text-align: right;\n",
              "    }\n",
              "</style>\n",
              "<table border=\"1\" class=\"dataframe\">\n",
              "  <thead>\n",
              "    <tr style=\"text-align: right;\">\n",
              "      <th></th>\n",
              "      <th>Open</th>\n",
              "      <th>High</th>\n",
              "      <th>Low</th>\n",
              "      <th>Close</th>\n",
              "      <th>Adj Close</th>\n",
              "      <th>Volume</th>\n",
              "    </tr>\n",
              "    <tr>\n",
              "      <th>Date</th>\n",
              "      <th></th>\n",
              "      <th></th>\n",
              "      <th></th>\n",
              "      <th></th>\n",
              "      <th></th>\n",
              "      <th></th>\n",
              "    </tr>\n",
              "  </thead>\n",
              "  <tbody>\n",
              "    <tr>\n",
              "      <th>2021-05-27</th>\n",
              "      <td>28.299999</td>\n",
              "      <td>32.110001</td>\n",
              "      <td>28.250000</td>\n",
              "      <td>30.020000</td>\n",
              "      <td>30.020000</td>\n",
              "      <td>13079000</td>\n",
              "    </tr>\n",
              "    <tr>\n",
              "      <th>2021-05-28</th>\n",
              "      <td>30.500000</td>\n",
              "      <td>34.369999</td>\n",
              "      <td>29.500000</td>\n",
              "      <td>34.150002</td>\n",
              "      <td>34.150002</td>\n",
              "      <td>3491000</td>\n",
              "    </tr>\n",
              "    <tr>\n",
              "      <th>2021-06-01</th>\n",
              "      <td>35.470001</td>\n",
              "      <td>36.090000</td>\n",
              "      <td>30.580000</td>\n",
              "      <td>31.760000</td>\n",
              "      <td>31.760000</td>\n",
              "      <td>4806300</td>\n",
              "    </tr>\n",
              "    <tr>\n",
              "      <th>2021-06-02</th>\n",
              "      <td>31.760000</td>\n",
              "      <td>32.169998</td>\n",
              "      <td>30.120001</td>\n",
              "      <td>31.809999</td>\n",
              "      <td>31.809999</td>\n",
              "      <td>2479400</td>\n",
              "    </tr>\n",
              "    <tr>\n",
              "      <th>2021-06-03</th>\n",
              "      <td>31.000000</td>\n",
              "      <td>32.900002</td>\n",
              "      <td>30.770000</td>\n",
              "      <td>31.770000</td>\n",
              "      <td>31.770000</td>\n",
              "      <td>2881600</td>\n",
              "    </tr>\n",
              "    <tr>\n",
              "      <th>...</th>\n",
              "      <td>...</td>\n",
              "      <td>...</td>\n",
              "      <td>...</td>\n",
              "      <td>...</td>\n",
              "      <td>...</td>\n",
              "      <td>...</td>\n",
              "    </tr>\n",
              "    <tr>\n",
              "      <th>2022-08-24</th>\n",
              "      <td>10.070000</td>\n",
              "      <td>10.300000</td>\n",
              "      <td>9.950000</td>\n",
              "      <td>10.100000</td>\n",
              "      <td>10.100000</td>\n",
              "      <td>2779700</td>\n",
              "    </tr>\n",
              "    <tr>\n",
              "      <th>2022-08-25</th>\n",
              "      <td>10.770000</td>\n",
              "      <td>11.940000</td>\n",
              "      <td>10.450000</td>\n",
              "      <td>11.910000</td>\n",
              "      <td>11.910000</td>\n",
              "      <td>17658200</td>\n",
              "    </tr>\n",
              "    <tr>\n",
              "      <th>2022-08-26</th>\n",
              "      <td>11.870000</td>\n",
              "      <td>12.050000</td>\n",
              "      <td>11.420000</td>\n",
              "      <td>11.650000</td>\n",
              "      <td>11.650000</td>\n",
              "      <td>6537100</td>\n",
              "    </tr>\n",
              "    <tr>\n",
              "      <th>2022-08-29</th>\n",
              "      <td>11.470000</td>\n",
              "      <td>12.250000</td>\n",
              "      <td>11.450000</td>\n",
              "      <td>11.980000</td>\n",
              "      <td>11.980000</td>\n",
              "      <td>6055300</td>\n",
              "    </tr>\n",
              "    <tr>\n",
              "      <th>2022-08-30</th>\n",
              "      <td>11.990000</td>\n",
              "      <td>12.120000</td>\n",
              "      <td>11.340000</td>\n",
              "      <td>11.520000</td>\n",
              "      <td>11.520000</td>\n",
              "      <td>4034100</td>\n",
              "    </tr>\n",
              "  </tbody>\n",
              "</table>\n",
              "<p>318 rows × 6 columns</p>\n",
              "</div>\n",
              "      <button class=\"colab-df-convert\" onclick=\"convertToInteractive('df-7229daf5-4ec0-4120-937b-bbb7614c09fb')\"\n",
              "              title=\"Convert this dataframe to an interactive table.\"\n",
              "              style=\"display:none;\">\n",
              "        \n",
              "  <svg xmlns=\"http://www.w3.org/2000/svg\" height=\"24px\"viewBox=\"0 0 24 24\"\n",
              "       width=\"24px\">\n",
              "    <path d=\"M0 0h24v24H0V0z\" fill=\"none\"/>\n",
              "    <path d=\"M18.56 5.44l.94 2.06.94-2.06 2.06-.94-2.06-.94-.94-2.06-.94 2.06-2.06.94zm-11 1L8.5 8.5l.94-2.06 2.06-.94-2.06-.94L8.5 2.5l-.94 2.06-2.06.94zm10 10l.94 2.06.94-2.06 2.06-.94-2.06-.94-.94-2.06-.94 2.06-2.06.94z\"/><path d=\"M17.41 7.96l-1.37-1.37c-.4-.4-.92-.59-1.43-.59-.52 0-1.04.2-1.43.59L10.3 9.45l-7.72 7.72c-.78.78-.78 2.05 0 2.83L4 21.41c.39.39.9.59 1.41.59.51 0 1.02-.2 1.41-.59l7.78-7.78 2.81-2.81c.8-.78.8-2.07 0-2.86zM5.41 20L4 18.59l7.72-7.72 1.47 1.35L5.41 20z\"/>\n",
              "  </svg>\n",
              "      </button>\n",
              "      \n",
              "  <style>\n",
              "    .colab-df-container {\n",
              "      display:flex;\n",
              "      flex-wrap:wrap;\n",
              "      gap: 12px;\n",
              "    }\n",
              "\n",
              "    .colab-df-convert {\n",
              "      background-color: #E8F0FE;\n",
              "      border: none;\n",
              "      border-radius: 50%;\n",
              "      cursor: pointer;\n",
              "      display: none;\n",
              "      fill: #1967D2;\n",
              "      height: 32px;\n",
              "      padding: 0 0 0 0;\n",
              "      width: 32px;\n",
              "    }\n",
              "\n",
              "    .colab-df-convert:hover {\n",
              "      background-color: #E2EBFA;\n",
              "      box-shadow: 0px 1px 2px rgba(60, 64, 67, 0.3), 0px 1px 3px 1px rgba(60, 64, 67, 0.15);\n",
              "      fill: #174EA6;\n",
              "    }\n",
              "\n",
              "    [theme=dark] .colab-df-convert {\n",
              "      background-color: #3B4455;\n",
              "      fill: #D2E3FC;\n",
              "    }\n",
              "\n",
              "    [theme=dark] .colab-df-convert:hover {\n",
              "      background-color: #434B5C;\n",
              "      box-shadow: 0px 1px 3px 1px rgba(0, 0, 0, 0.15);\n",
              "      filter: drop-shadow(0px 1px 2px rgba(0, 0, 0, 0.3));\n",
              "      fill: #FFFFFF;\n",
              "    }\n",
              "  </style>\n",
              "\n",
              "      <script>\n",
              "        const buttonEl =\n",
              "          document.querySelector('#df-7229daf5-4ec0-4120-937b-bbb7614c09fb button.colab-df-convert');\n",
              "        buttonEl.style.display =\n",
              "          google.colab.kernel.accessAllowed ? 'block' : 'none';\n",
              "\n",
              "        async function convertToInteractive(key) {\n",
              "          const element = document.querySelector('#df-7229daf5-4ec0-4120-937b-bbb7614c09fb');\n",
              "          const dataTable =\n",
              "            await google.colab.kernel.invokeFunction('convertToInteractive',\n",
              "                                                     [key], {});\n",
              "          if (!dataTable) return;\n",
              "\n",
              "          const docLinkHtml = 'Like what you see? Visit the ' +\n",
              "            '<a target=\"_blank\" href=https://colab.research.google.com/notebooks/data_table.ipynb>data table notebook</a>'\n",
              "            + ' to learn more about interactive tables.';\n",
              "          element.innerHTML = '';\n",
              "          dataTable['output_type'] = 'display_data';\n",
              "          await google.colab.output.renderOutput(dataTable, element);\n",
              "          const docLink = document.createElement('div');\n",
              "          docLink.innerHTML = docLinkHtml;\n",
              "          element.appendChild(docLink);\n",
              "        }\n",
              "      </script>\n",
              "    </div>\n",
              "  </div>\n",
              "  "
            ]
          },
          "metadata": {},
          "execution_count": 35
        }
      ]
    },
    {
      "cell_type": "code",
      "source": [],
      "metadata": {
        "id": "GqLUew5sHMav"
      },
      "execution_count": null,
      "outputs": []
    },
    {
      "cell_type": "code",
      "source": [],
      "metadata": {
        "id": "rwRmmh43HMW0"
      },
      "execution_count": null,
      "outputs": []
    },
    {
      "cell_type": "code",
      "source": [],
      "metadata": {
        "id": "e661kF-U2fDv"
      },
      "execution_count": null,
      "outputs": []
    },
    {
      "cell_type": "code",
      "source": [],
      "metadata": {
        "id": "QwcHsmaU_gaT"
      },
      "execution_count": null,
      "outputs": []
    }
  ]
}